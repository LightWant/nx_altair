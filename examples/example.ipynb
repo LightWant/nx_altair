{
 "cells": [
  {
   "cell_type": "markdown",
   "metadata": {},
   "source": [
    "# Example of drawing NetworkX graphs in Altair"
   ]
  },
  {
   "cell_type": "code",
   "execution_count": 4,
   "metadata": {},
   "outputs": [
    {
     "data": {
      "application/vnd.vegalite.v2+json": {
       "$schema": "https://vega.github.io/schema/vega-lite/v2.4.1.json",
       "config": {
        "axis": {
         "domain": false,
         "grid": false,
         "labels": false,
         "ticks": false
        },
        "view": {
         "height": 300,
         "width": 400
        }
       },
       "layer": [
        {
         "data": {
          "values": [
           {
            "edge": 0,
            "pair": [
             0,
             1
            ],
            "source": 0,
            "target": 1,
            "weight": 2.815538463525013,
            "x": -0.3900383218458021,
            "y": -0.0581103582417073
           },
           {
            "edge": 0,
            "pair": [
             0,
             1
            ],
            "source": 0,
            "target": 1,
            "weight": 2.815538463525013,
            "x": -0.6134131810732267,
            "y": -0.4635602379495384
           },
           {
            "edge": 1,
            "pair": [
             0,
             4
            ],
            "source": 0,
            "target": 4,
            "weight": 8.218130103394666,
            "x": -0.3900383218458021,
            "y": -0.0581103582417073
           },
           {
            "edge": 1,
            "pair": [
             0,
             4
            ],
            "source": 0,
            "target": 4,
            "weight": 8.218130103394666,
            "x": 0.09563596815517464,
            "y": 0.13934354288460588
           },
           {
            "edge": 2,
            "pair": [
             0,
             5
            ],
            "source": 0,
            "target": 5,
            "weight": 8.705431668498955,
            "x": -0.3900383218458021,
            "y": -0.0581103582417073
           },
           {
            "edge": 2,
            "pair": [
             0,
             5
            ],
            "source": 0,
            "target": 5,
            "weight": 8.705431668498955,
            "x": -0.42988765876977963,
            "y": -0.6579210232305336
           },
           {
            "edge": 3,
            "pair": [
             0,
             6
            ],
            "source": 0,
            "target": 6,
            "weight": 1.0966936619945304,
            "x": -0.3900383218458021,
            "y": -0.0581103582417073
           },
           {
            "edge": 3,
            "pair": [
             0,
             6
            ],
            "source": 0,
            "target": 6,
            "weight": 1.0966936619945304,
            "x": -0.6537098579340009,
            "y": -0.19625616200232138
           },
           {
            "edge": 4,
            "pair": [
             0,
             8
            ],
            "source": 0,
            "target": 8,
            "weight": 2.171075757028478,
            "x": -0.3900383218458021,
            "y": -0.0581103582417073
           },
           {
            "edge": 4,
            "pair": [
             0,
             8
            ],
            "source": 0,
            "target": 8,
            "weight": 2.171075757028478,
            "x": -0.12527598123405592,
            "y": -0.43770298678530195
           },
           {
            "edge": 5,
            "pair": [
             0,
             11
            ],
            "source": 0,
            "target": 11,
            "weight": 7.011610680294621,
            "x": -0.3900383218458021,
            "y": -0.0581103582417073
           },
           {
            "edge": 5,
            "pair": [
             0,
             11
            ],
            "source": 0,
            "target": 11,
            "weight": 7.011610680294621,
            "x": -0.1863625865125414,
            "y": -0.04887187926037395
           },
           {
            "edge": 6,
            "pair": [
             0,
             12
            ],
            "source": 0,
            "target": 12,
            "weight": 8.994325100644705,
            "x": -0.3900383218458021,
            "y": -0.0581103582417073
           },
           {
            "edge": 6,
            "pair": [
             0,
             12
            ],
            "source": 0,
            "target": 12,
            "weight": 8.994325100644705,
            "x": -0.37665005707396676,
            "y": 0.4114854910509641
           },
           {
            "edge": 7,
            "pair": [
             0,
             13
            ],
            "source": 0,
            "target": 13,
            "weight": 3.6824181559243927,
            "x": -0.3900383218458021,
            "y": -0.0581103582417073
           },
           {
            "edge": 7,
            "pair": [
             0,
             13
            ],
            "source": 0,
            "target": 13,
            "weight": 3.6824181559243927,
            "x": 0.10502357265579121,
            "y": 0.3853868884378292
           },
           {
            "edge": 8,
            "pair": [
             1,
             8
            ],
            "source": 1,
            "target": 8,
            "weight": 8.16761343229605,
            "x": -0.6134131810732267,
            "y": -0.4635602379495384
           },
           {
            "edge": 8,
            "pair": [
             1,
             8
            ],
            "source": 1,
            "target": 8,
            "weight": 8.16761343229605,
            "x": -0.12527598123405592,
            "y": -0.43770298678530195
           },
           {
            "edge": 9,
            "pair": [
             1,
             11
            ],
            "source": 1,
            "target": 11,
            "weight": 6.777962806342259,
            "x": -0.6134131810732267,
            "y": -0.4635602379495384
           },
           {
            "edge": 9,
            "pair": [
             1,
             11
            ],
            "source": 1,
            "target": 11,
            "weight": 6.777962806342259,
            "x": -0.1863625865125414,
            "y": -0.04887187926037395
           },
           {
            "edge": 10,
            "pair": [
             1,
             6
            ],
            "source": 1,
            "target": 6,
            "weight": 6.526713514943218,
            "x": -0.6134131810732267,
            "y": -0.4635602379495384
           },
           {
            "edge": 10,
            "pair": [
             1,
             6
            ],
            "source": 1,
            "target": 6,
            "weight": 6.526713514943218,
            "x": -0.6537098579340009,
            "y": -0.19625616200232138
           },
           {
            "edge": 11,
            "pair": [
             2,
             8
            ],
            "source": 2,
            "target": 8,
            "weight": 3.605253843286973,
            "x": -0.035316535963670154,
            "y": -0.8576177179090848
           },
           {
            "edge": 11,
            "pair": [
             2,
             8
            ],
            "source": 2,
            "target": 8,
            "weight": 3.605253843286973,
            "x": -0.12527598123405592,
            "y": -0.43770298678530195
           },
           {
            "edge": 12,
            "pair": [
             2,
             5
            ],
            "source": 2,
            "target": 5,
            "weight": 8.658992453534134,
            "x": -0.035316535963670154,
            "y": -0.8576177179090848
           },
           {
            "edge": 12,
            "pair": [
             2,
             5
            ],
            "source": 2,
            "target": 5,
            "weight": 8.658992453534134,
            "x": -0.42988765876977963,
            "y": -0.6579210232305336
           },
           {
            "edge": 13,
            "pair": [
             2,
             14
            ],
            "source": 2,
            "target": 14,
            "weight": 6.791738489810043,
            "x": -0.035316535963670154,
            "y": -0.8576177179090848
           },
           {
            "edge": 13,
            "pair": [
             2,
             14
            ],
            "source": 2,
            "target": 14,
            "weight": 6.791738489810043,
            "x": 0.2544664966361224,
            "y": -0.2194679652320806
           },
           {
            "edge": 14,
            "pair": [
             3,
             16
            ],
            "source": 3,
            "target": 16,
            "weight": 8.015212282888264,
            "x": 0.36466948930794857,
            "y": 0.3700765867548484
           },
           {
            "edge": 14,
            "pair": [
             3,
             16
            ],
            "source": 3,
            "target": 16,
            "weight": 8.015212282888264,
            "x": -0.15858276544081581,
            "y": 0.7488397066644189
           },
           {
            "edge": 15,
            "pair": [
             3,
             17
            ],
            "source": 3,
            "target": 17,
            "weight": 7.419804893462969,
            "x": 0.36466948930794857,
            "y": 0.3700765867548484
           },
           {
            "edge": 15,
            "pair": [
             3,
             17
            ],
            "source": 3,
            "target": 17,
            "weight": 7.419804893462969,
            "x": 0.6647830069279188,
            "y": 0.12964961058787905
           },
           {
            "edge": 16,
            "pair": [
             3,
             18
            ],
            "source": 3,
            "target": 18,
            "weight": 8.656467869145743,
            "x": 0.36466948930794857,
            "y": 0.3700765867548484
           },
           {
            "edge": 16,
            "pair": [
             3,
             18
            ],
            "source": 3,
            "target": 18,
            "weight": 8.656467869145743,
            "x": 0.579043311744008,
            "y": 0.4458565785000361
           },
           {
            "edge": 17,
            "pair": [
             3,
             4
            ],
            "source": 3,
            "target": 4,
            "weight": 3.1303327027430448,
            "x": 0.36466948930794857,
            "y": 0.3700765867548484
           },
           {
            "edge": 17,
            "pair": [
             3,
             4
            ],
            "source": 3,
            "target": 4,
            "weight": 3.1303327027430448,
            "x": 0.09563596815517464,
            "y": 0.13934354288460588
           },
           {
            "edge": 18,
            "pair": [
             3,
             10
            ],
            "source": 3,
            "target": 10,
            "weight": 6.010918387614094,
            "x": 0.36466948930794857,
            "y": 0.3700765867548484
           },
           {
            "edge": 18,
            "pair": [
             3,
             10
            ],
            "source": 3,
            "target": 10,
            "weight": 6.010918387614094,
            "x": 0.41068170363968937,
            "y": -0.10185267236298413
           },
           {
            "edge": 19,
            "pair": [
             3,
             13
            ],
            "source": 3,
            "target": 13,
            "weight": 9.505486362285156,
            "x": 0.36466948930794857,
            "y": 0.3700765867548484
           },
           {
            "edge": 19,
            "pair": [
             3,
             13
            ],
            "source": 3,
            "target": 13,
            "weight": 9.505486362285156,
            "x": 0.10502357265579121,
            "y": 0.3853868884378292
           },
           {
            "edge": 20,
            "pair": [
             3,
             14
            ],
            "source": 3,
            "target": 14,
            "weight": 6.522397742858491,
            "x": 0.36466948930794857,
            "y": 0.3700765867548484
           },
           {
            "edge": 20,
            "pair": [
             3,
             14
            ],
            "source": 3,
            "target": 14,
            "weight": 6.522397742858491,
            "x": 0.2544664966361224,
            "y": -0.2194679652320806
           },
           {
            "edge": 21,
            "pair": [
             4,
             17
            ],
            "source": 4,
            "target": 17,
            "weight": 3.540157713833715,
            "x": 0.09563596815517464,
            "y": 0.13934354288460588
           },
           {
            "edge": 21,
            "pair": [
             4,
             17
            ],
            "source": 4,
            "target": 17,
            "weight": 3.540157713833715,
            "x": 0.6647830069279188,
            "y": 0.12964961058787905
           },
           {
            "edge": 22,
            "pair": [
             4,
             7
            ],
            "source": 4,
            "target": 7,
            "weight": 5.437107653921755,
            "x": 0.09563596815517464,
            "y": 0.13934354288460588
           },
           {
            "edge": 22,
            "pair": [
             4,
             7
            ],
            "source": 4,
            "target": 7,
            "weight": 5.437107653921755,
            "x": -0.000891740160470931,
            "y": 0.5744876676496268
           },
           {
            "edge": 23,
            "pair": [
             4,
             9
            ],
            "source": 4,
            "target": 9,
            "weight": 3.065131109298333,
            "x": 0.09563596815517464,
            "y": 0.13934354288460588
           },
           {
            "edge": 23,
            "pair": [
             4,
             9
            ],
            "source": 4,
            "target": 9,
            "weight": 3.065131109298333,
            "x": 0.9858563475950344,
            "y": -0.05237931373168527
           },
           {
            "edge": 24,
            "pair": [
             4,
             12
            ],
            "source": 4,
            "target": 12,
            "weight": 8.791656977573423,
            "x": 0.09563596815517464,
            "y": 0.13934354288460588
           },
           {
            "edge": 24,
            "pair": [
             4,
             12
            ],
            "source": 4,
            "target": 12,
            "weight": 8.791656977573423,
            "x": -0.37665005707396676,
            "y": 0.4114854910509641
           },
           {
            "edge": 25,
            "pair": [
             4,
             14
            ],
            "source": 4,
            "target": 14,
            "weight": 9.873939120451091,
            "x": 0.09563596815517464,
            "y": 0.13934354288460588
           },
           {
            "edge": 25,
            "pair": [
             4,
             14
            ],
            "source": 4,
            "target": 14,
            "weight": 9.873939120451091,
            "x": 0.2544664966361224,
            "y": -0.2194679652320806
           },
           {
            "edge": 26,
            "pair": [
             5,
             8
            ],
            "source": 5,
            "target": 8,
            "weight": 5.9297383292366606,
            "x": -0.42988765876977963,
            "y": -0.6579210232305336
           },
           {
            "edge": 26,
            "pair": [
             5,
             8
            ],
            "source": 5,
            "target": 8,
            "weight": 5.9297383292366606,
            "x": -0.12527598123405592,
            "y": -0.43770298678530195
           },
           {
            "edge": 27,
            "pair": [
             5,
             6
            ],
            "source": 5,
            "target": 6,
            "weight": 5.326812233397764,
            "x": -0.42988765876977963,
            "y": -0.6579210232305336
           },
           {
            "edge": 27,
            "pair": [
             5,
             6
            ],
            "source": 5,
            "target": 6,
            "weight": 5.326812233397764,
            "x": -0.6537098579340009,
            "y": -0.19625616200232138
           },
           {
            "edge": 28,
            "pair": [
             6,
             19
            ],
            "source": 6,
            "target": 19,
            "weight": 6.785259108683863,
            "x": -0.6537098579340009,
            "y": -0.19625616200232138
           },
           {
            "edge": 28,
            "pair": [
             6,
             19
            ],
            "source": 6,
            "target": 19,
            "weight": 6.785259108683863,
            "x": -1,
            "y": 0.36355229808513284
           },
           {
            "edge": 29,
            "pair": [
             6,
             8
            ],
            "source": 6,
            "target": 8,
            "weight": 9.478410551108272,
            "x": -0.6537098579340009,
            "y": -0.19625616200232138
           },
           {
            "edge": 29,
            "pair": [
             6,
             8
            ],
            "source": 6,
            "target": 8,
            "weight": 9.478410551108272,
            "x": -0.12527598123405592,
            "y": -0.43770298678530195
           },
           {
            "edge": 30,
            "pair": [
             6,
             11
            ],
            "source": 6,
            "target": 11,
            "weight": 9.831895100134442,
            "x": -0.6537098579340009,
            "y": -0.19625616200232138
           },
           {
            "edge": 30,
            "pair": [
             6,
             11
            ],
            "source": 6,
            "target": 11,
            "weight": 9.831895100134442,
            "x": -0.1863625865125414,
            "y": -0.04887187926037395
           },
           {
            "edge": 31,
            "pair": [
             7,
             16
            ],
            "source": 7,
            "target": 16,
            "weight": 3.0873860922809717,
            "x": -0.000891740160470931,
            "y": 0.5744876676496268
           },
           {
            "edge": 31,
            "pair": [
             7,
             16
            ],
            "source": 7,
            "target": 16,
            "weight": 3.0873860922809717,
            "x": -0.15858276544081581,
            "y": 0.7488397066644189
           },
           {
            "edge": 32,
            "pair": [
             7,
             12
            ],
            "source": 7,
            "target": 12,
            "weight": 2.6618984373138748,
            "x": -0.000891740160470931,
            "y": 0.5744876676496268
           },
           {
            "edge": 32,
            "pair": [
             7,
             12
            ],
            "source": 7,
            "target": 12,
            "weight": 2.6618984373138748,
            "x": -0.37665005707396676,
            "y": 0.4114854910509641
           },
           {
            "edge": 33,
            "pair": [
             7,
             18
            ],
            "source": 7,
            "target": 18,
            "weight": 5.293675170377426,
            "x": -0.000891740160470931,
            "y": 0.5744876676496268
           },
           {
            "edge": 33,
            "pair": [
             7,
             18
            ],
            "source": 7,
            "target": 18,
            "weight": 5.293675170377426,
            "x": 0.579043311744008,
            "y": 0.4458565785000361
           },
           {
            "edge": 34,
            "pair": [
             7,
             11
            ],
            "source": 7,
            "target": 11,
            "weight": 5.502244859495149,
            "x": -0.000891740160470931,
            "y": 0.5744876676496268
           },
           {
            "edge": 34,
            "pair": [
             7,
             11
            ],
            "source": 7,
            "target": 11,
            "weight": 5.502244859495149,
            "x": -0.1863625865125414,
            "y": -0.04887187926037395
           },
           {
            "edge": 35,
            "pair": [
             8,
             10
            ],
            "source": 8,
            "target": 10,
            "weight": 7.336837391017467,
            "x": -0.12527598123405592,
            "y": -0.43770298678530195
           },
           {
            "edge": 35,
            "pair": [
             8,
             10
            ],
            "source": 8,
            "target": 10,
            "weight": 7.336837391017467,
            "x": 0.41068170363968937,
            "y": -0.10185267236298413
           },
           {
            "edge": 36,
            "pair": [
             8,
             11
            ],
            "source": 8,
            "target": 11,
            "weight": 2.797568693995629,
            "x": -0.12527598123405592,
            "y": -0.43770298678530195
           },
           {
            "edge": 36,
            "pair": [
             8,
             11
            ],
            "source": 8,
            "target": 11,
            "weight": 2.797568693995629,
            "x": -0.1863625865125414,
            "y": -0.04887187926037395
           },
           {
            "edge": 37,
            "pair": [
             8,
             14
            ],
            "source": 8,
            "target": 14,
            "weight": 7.899740103431156,
            "x": -0.12527598123405592,
            "y": -0.43770298678530195
           },
           {
            "edge": 37,
            "pair": [
             8,
             14
            ],
            "source": 8,
            "target": 14,
            "weight": 7.899740103431156,
            "x": 0.2544664966361224,
            "y": -0.2194679652320806
           },
           {
            "edge": 38,
            "pair": [
             8,
             15
            ],
            "source": 8,
            "target": 15,
            "weight": 6.019625105975124,
            "x": -0.12527598123405592,
            "y": -0.43770298678530195
           },
           {
            "edge": 38,
            "pair": [
             8,
             15
            ],
            "source": 8,
            "target": 15,
            "weight": 6.019625105975124,
            "x": 0.5099687893466409,
            "y": -0.4749380539097291
           },
           {
            "edge": 39,
            "pair": [
             9,
             17
            ],
            "source": 9,
            "target": 17,
            "weight": 3.950793510482905,
            "x": 0.9858563475950344,
            "y": -0.05237931373168527
           },
           {
            "edge": 39,
            "pair": [
             9,
             17
            ],
            "source": 9,
            "target": 17,
            "weight": 3.950793510482905,
            "x": 0.6647830069279188,
            "y": 0.12964961058787905
           },
           {
            "edge": 40,
            "pair": [
             9,
             10
            ],
            "source": 9,
            "target": 10,
            "weight": 5.436148869568568,
            "x": 0.9858563475950344,
            "y": -0.05237931373168527
           },
           {
            "edge": 40,
            "pair": [
             9,
             10
            ],
            "source": 9,
            "target": 10,
            "weight": 5.436148869568568,
            "x": 0.41068170363968937,
            "y": -0.10185267236298413
           },
           {
            "edge": 41,
            "pair": [
             10,
             11
            ],
            "source": 10,
            "target": 11,
            "weight": 8.933758069291091,
            "x": 0.41068170363968937,
            "y": -0.10185267236298413
           },
           {
            "edge": 41,
            "pair": [
             10,
             11
            ],
            "source": 10,
            "target": 11,
            "weight": 8.933758069291091,
            "x": -0.1863625865125414,
            "y": -0.04887187926037395
           },
           {
            "edge": 42,
            "pair": [
             10,
             17
            ],
            "source": 10,
            "target": 17,
            "weight": 7.207103960175012,
            "x": 0.41068170363968937,
            "y": -0.10185267236298413
           },
           {
            "edge": 42,
            "pair": [
             10,
             17
            ],
            "source": 10,
            "target": 17,
            "weight": 7.207103960175012,
            "x": 0.6647830069279188,
            "y": 0.12964961058787905
           },
           {
            "edge": 43,
            "pair": [
             11,
             13
            ],
            "source": 11,
            "target": 13,
            "weight": 5.270744321628382,
            "x": -0.1863625865125414,
            "y": -0.04887187926037395
           },
           {
            "edge": 43,
            "pair": [
             11,
             13
            ],
            "source": 11,
            "target": 13,
            "weight": 5.270744321628382,
            "x": 0.10502357265579121,
            "y": 0.3853868884378292
           },
           {
            "edge": 44,
            "pair": [
             12,
             16
            ],
            "source": 12,
            "target": 16,
            "weight": 4.647842097120891,
            "x": -0.37665005707396676,
            "y": 0.4114854910509641
           },
           {
            "edge": 44,
            "pair": [
             12,
             16
            ],
            "source": 12,
            "target": 16,
            "weight": 4.647842097120891,
            "x": -0.15858276544081581,
            "y": 0.7488397066644189
           },
           {
            "edge": 45,
            "pair": [
             13,
             16
            ],
            "source": 13,
            "target": 16,
            "weight": 9.879274325666223,
            "x": 0.10502357265579121,
            "y": 0.3853868884378292
           },
           {
            "edge": 45,
            "pair": [
             13,
             16
            ],
            "source": 13,
            "target": 16,
            "weight": 9.879274325666223,
            "x": -0.15858276544081581,
            "y": 0.7488397066644189
           },
           {
            "edge": 46,
            "pair": [
             13,
             18
            ],
            "source": 13,
            "target": 18,
            "weight": 8.071462735460429,
            "x": 0.10502357265579121,
            "y": 0.3853868884378292
           },
           {
            "edge": 46,
            "pair": [
             13,
             18
            ],
            "source": 13,
            "target": 18,
            "weight": 8.071462735460429,
            "x": 0.579043311744008,
            "y": 0.4458565785000361
           },
           {
            "edge": 47,
            "pair": [
             13,
             14
            ],
            "source": 13,
            "target": 14,
            "weight": 5.4330218384771,
            "x": 0.10502357265579121,
            "y": 0.3853868884378292
           },
           {
            "edge": 47,
            "pair": [
             13,
             14
            ],
            "source": 13,
            "target": 14,
            "weight": 5.4330218384771,
            "x": 0.2544664966361224,
            "y": -0.2194679652320806
           },
           {
            "edge": 48,
            "pair": [
             14,
             17
            ],
            "source": 14,
            "target": 17,
            "weight": 7.341484354033916,
            "x": 0.2544664966361224,
            "y": -0.2194679652320806
           },
           {
            "edge": 48,
            "pair": [
             14,
             17
            ],
            "source": 14,
            "target": 17,
            "weight": 7.341484354033916,
            "x": 0.6647830069279188,
            "y": 0.12964961058787905
           },
           {
            "edge": 49,
            "pair": [
             14,
             15
            ],
            "source": 14,
            "target": 15,
            "weight": 9.211189534287886,
            "x": 0.2544664966361224,
            "y": -0.2194679652320806
           },
           {
            "edge": 49,
            "pair": [
             14,
             15
            ],
            "source": 14,
            "target": 15,
            "weight": 9.211189534287886,
            "x": 0.5099687893466409,
            "y": -0.4749380539097291
           },
           {
            "edge": 50,
            "pair": [
             15,
             18
            ],
            "source": 15,
            "target": 18,
            "weight": 3.02510086718389,
            "x": 0.5099687893466409,
            "y": -0.4749380539097291
           },
           {
            "edge": 50,
            "pair": [
             15,
             18
            ],
            "source": 15,
            "target": 18,
            "weight": 3.02510086718389,
            "x": 0.579043311744008,
            "y": 0.4458565785000361
           },
           {
            "edge": 51,
            "pair": [
             16,
             19
            ],
            "source": 16,
            "target": 19,
            "weight": 2.7260799768296313,
            "x": -0.15858276544081581,
            "y": 0.7488397066644189
           },
           {
            "edge": 51,
            "pair": [
             16,
             19
            ],
            "source": 16,
            "target": 19,
            "weight": 2.7260799768296313,
            "x": -1,
            "y": 0.36355229808513284
           },
           {
            "edge": 52,
            "pair": [
             17,
             18
            ],
            "source": 17,
            "target": 18,
            "weight": 8.257848938235366,
            "x": 0.6647830069279188,
            "y": 0.12964961058787905
           },
           {
            "edge": 52,
            "pair": [
             17,
             18
            ],
            "source": 17,
            "target": 18,
            "weight": 8.257848938235366,
            "x": 0.579043311744008,
            "y": 0.4458565785000361
           }
          ]
         },
         "encoding": {
          "detail": {
           "field": "edge",
           "type": "quantitative"
          },
          "size": {
           "field": "weight",
           "type": "quantitative"
          },
          "x": {
           "axis": {
            "title": ""
           },
           "field": "x",
           "type": "quantitative"
          },
          "y": {
           "axis": {
            "title": ""
           },
           "field": "y",
           "type": "quantitative"
          }
         },
         "mark": {
          "color": "black",
          "opacity": 1,
          "type": "line"
         },
         "selection": {
          "selector004": {
           "bind": "scales",
           "encodings": [
            "x",
            "y"
           ],
           "mark": {
            "fill": "#333",
            "fillOpacity": 0.125,
            "stroke": "white"
           },
           "on": "[mousedown, window:mouseup] > window:mousemove!",
           "resolve": "global",
           "translate": "[mousedown, window:mouseup] > window:mousemove!",
           "type": "interval",
           "zoom": "wheel!"
          }
         }
        },
        {
         "data": {
          "values": [
           {
            "weight": -1.870078343979705,
            "x": -0.3900383218458021,
            "y": -0.0581103582417073
           },
           {
            "weight": 0.9879167635056507,
            "x": -0.6134131810732267,
            "y": -0.4635602379495384
           },
           {
            "weight": 0.1995361472274143,
            "x": -0.035316535963670154,
            "y": -0.8576177179090848
           },
           {
            "weight": -0.20057787369619978,
            "x": 0.36466948930794857,
            "y": 0.3700765867548484
           },
           {
            "weight": 0.07427333004664212,
            "x": 0.09563596815517464,
            "y": 0.13934354288460588
           },
           {
            "weight": -0.5000027430553642,
            "x": -0.42988765876977963,
            "y": -0.6579210232305336
           },
           {
            "weight": 0.2748855714958681,
            "x": -0.6537098579340009,
            "y": -0.19625616200232138
           },
           {
            "weight": 0.7951250496380825,
            "x": -0.000891740160470931,
            "y": 0.5744876676496268
           },
           {
            "weight": -0.30813014123224874,
            "x": -0.12527598123405592,
            "y": -0.43770298678530195
           },
           {
            "weight": 1.4454732223087616,
            "x": 0.9858563475950344,
            "y": -0.05237931373168527
           },
           {
            "weight": 0.6525645482124338,
            "x": 0.41068170363968937,
            "y": -0.10185267236298413
           },
           {
            "weight": 0.5076217285520924,
            "x": -0.1863625865125414,
            "y": -0.04887187926037395
           },
           {
            "weight": 0.26164599045293735,
            "x": -0.37665005707396676,
            "y": 0.4114854910509641
           },
           {
            "weight": -0.18077452113615483,
            "x": 0.10502357265579121,
            "y": 0.3853868884378292
           },
           {
            "weight": -1.426318244364986,
            "x": 0.2544664966361224,
            "y": -0.2194679652320806
           },
           {
            "weight": -1.3926814623096138,
            "x": 0.5099687893466409,
            "y": -0.4749380539097291
           },
           {
            "weight": -0.029860223720741232,
            "x": -0.15858276544081581,
            "y": 0.7488397066644189
           },
           {
            "weight": 0.05426949753714336,
            "x": 0.6647830069279188,
            "y": 0.12964961058787905
           },
           {
            "weight": -0.3364675364497028,
            "x": 0.579043311744008,
            "y": 0.4458565785000361
           },
           {
            "weight": -0.5727334485940451,
            "x": -1,
            "y": 0.36355229808513284
           }
          ]
         },
         "encoding": {
          "fill": {
           "field": "weight",
           "scale": {
            "scheme": "viridis"
           },
           "type": "quantitative"
          },
          "x": {
           "field": "x",
           "type": "quantitative"
          },
          "y": {
           "field": "y",
           "type": "quantitative"
          }
         },
         "mark": {
          "opacity": 1,
          "size": 300,
          "type": "point"
         }
        }
       ]
      },
      "image/png": "[encoded data removed]",
      "text/plain": [
       "<VegaLite 2 object>\n",
       "\n",
       "If you see this message, it means the renderer has not been properly enabled\n",
       "for the frontend that you are using. For more information, see\n",
       "https://altair-viz.github.io/user_guide/troubleshooting.html\n"
      ]
     },
     "execution_count": 4,
     "metadata": {},
     "output_type": "execute_result"
    }
   ],
   "source": [
    "import networkx as nx\n",
    "import nx_altair as nxa\n",
    "import numpy as np\n",
    "\n",
    "# Generate a random graph\n",
    "G = nx.fast_gnp_random_graph(n=20, p=0.25)\n",
    "\n",
    "# Add weights\n",
    "for n in G.nodes():\n",
    "    G.nodes[n]['weight'] = np.random.randn()\n",
    "\n",
    "for e in G.edges():\n",
    "    G.edges[(e[0],e[1])]['weight'] = np.random.uniform(1, 10)\n",
    "    \n",
    "# Compute positions for viz.\n",
    "pos = nx.spring_layout(G)\n",
    "\n",
    "# Draw the graph using Altair\n",
    "viz = nxa.draw_networkx(\n",
    "    G, pos=pos,\n",
    "    node_color='weight',\n",
    "    cmap='viridis',\n",
    "    width='weight', \n",
    "    edge_color='black',\n",
    ")\n",
    "\n",
    "# Show it as an interactive plot!\n",
    "viz.interactive()"
   ]
  },
  {
   "cell_type": "code",
   "execution_count": null,
   "metadata": {},
   "outputs": [],
   "source": []
  }
 ],
 "metadata": {
  "kernelspec": {
   "display_name": "gpseer (Python 3)",
   "language": "python",
   "name": "gpseer"
  },
  "language_info": {
   "codemirror_mode": {
    "name": "ipython",
    "version": 3
   },
   "file_extension": ".py",
   "mimetype": "text/x-python",
   "name": "python",
   "nbconvert_exporter": "python",
   "pygments_lexer": "ipython3",
   "version": "3.5.4"
  }
 },
 "nbformat": 4,
 "nbformat_minor": 2
}
