{
 "cells": [
  {
   "cell_type": "code",
   "execution_count": 20,
   "metadata": {},
   "outputs": [],
   "source": []
  },
  {
   "cell_type": "code",
   "execution_count": 51,
   "metadata": {},
   "outputs": [],
   "source": [
    "import networkx as nx\n",
    "import nx_altair as nxa\n",
    "\n",
    "# Generate a random graph\n",
    "G = nx.fast_gnp_random_graph(n=20, p=0.25)\n",
    "\n",
    "# Compute positions for viz.\n",
    "pos = nx.spring_layout(G)\n",
    "\n",
    "# Draw the graph using Altair\n",
    "viz = nxa.draw(G, pos=pos)\n",
    "\n",
    "# Show it as an interactive plot!\n",
    "viz.interactive()"
   ]
  },
  {
   "cell_type": "code",
   "execution_count": 52,
   "metadata": {},
   "outputs": [
    {
     "data": {
      "application/vnd.vegalite.v2+json": {
       "$schema": "https://vega.github.io/schema/vega-lite/v2.4.1.json",
       "config": {
        "axis": {
         "domain": false,
         "grid": false,
         "labels": false,
         "ticks": false
        },
        "view": {
         "height": 300,
         "width": 400
        }
       },
       "layer": [
        {
         "data": {
          "values": [
           {
            "edge": 0,
            "source": 0,
            "target": 5,
            "x": -1,
            "y": -0.40494296382491207
           },
           {
            "edge": 0,
            "source": 0,
            "target": 5,
            "x": -0.5873934040211775,
            "y": -0.5498850829720988
           },
           {
            "edge": 1,
            "source": 0,
            "target": 6,
            "x": -1,
            "y": -0.40494296382491207
           },
           {
            "edge": 1,
            "source": 0,
            "target": 6,
            "x": -0.45579884602111753,
            "y": 0.0387891903973724
           },
           {
            "edge": 2,
            "source": 1,
            "target": 19,
            "x": 0.813775450611165,
            "y": -0.017187936268281797
           },
           {
            "edge": 2,
            "source": 1,
            "target": 19,
            "x": 0.34820353769014556,
            "y": -0.2664707797894104
           },
           {
            "edge": 3,
            "source": 1,
            "target": 10,
            "x": 0.813775450611165,
            "y": -0.017187936268281797
           },
           {
            "edge": 3,
            "source": 1,
            "target": 10,
            "x": 0.595876232185504,
            "y": -0.1997674200532103
           },
           {
            "edge": 4,
            "source": 1,
            "target": 3,
            "x": 0.813775450611165,
            "y": -0.017187936268281797
           },
           {
            "edge": 4,
            "source": 1,
            "target": 3,
            "x": 0.35417488989696505,
            "y": -0.04281570983929575
           },
           {
            "edge": 5,
            "source": 1,
            "target": 14,
            "x": 0.813775450611165,
            "y": -0.017187936268281797
           },
           {
            "edge": 5,
            "source": 1,
            "target": 14,
            "x": 0.42425210632331406,
            "y": 0.3125990935449465
           },
           {
            "edge": 6,
            "source": 2,
            "target": 16,
            "x": -0.35736625227727037,
            "y": -0.4821938229126148
           },
           {
            "edge": 6,
            "source": 2,
            "target": 16,
            "x": -0.5715040806064838,
            "y": -0.07784901553035016
           },
           {
            "edge": 7,
            "source": 2,
            "target": 9,
            "x": -0.35736625227727037,
            "y": -0.4821938229126148
           },
           {
            "edge": 7,
            "source": 2,
            "target": 9,
            "x": 0.2621447766262898,
            "y": -0.5396001156113935
           },
           {
            "edge": 8,
            "source": 2,
            "target": 7,
            "x": -0.35736625227727037,
            "y": -0.4821938229126148
           },
           {
            "edge": 8,
            "source": 2,
            "target": 7,
            "x": -0.22249994564827022,
            "y": 0.031198064482266814
           },
           {
            "edge": 9,
            "source": 3,
            "target": 13,
            "x": 0.35417488989696505,
            "y": -0.04281570983929575
           },
           {
            "edge": 9,
            "source": 3,
            "target": 13,
            "x": 0.030385507505801712,
            "y": 0.2575675788996841
           },
           {
            "edge": 10,
            "source": 3,
            "target": 4,
            "x": 0.35417488989696505,
            "y": -0.04281570983929575
           },
           {
            "edge": 10,
            "source": 3,
            "target": 4,
            "x": 0.08966277340422625,
            "y": -0.15050750058744797
           },
           {
            "edge": 11,
            "source": 3,
            "target": 9,
            "x": 0.35417488989696505,
            "y": -0.04281570983929575
           },
           {
            "edge": 11,
            "source": 3,
            "target": 9,
            "x": 0.2621447766262898,
            "y": -0.5396001156113935
           },
           {
            "edge": 12,
            "source": 3,
            "target": 7,
            "x": 0.35417488989696505,
            "y": -0.04281570983929575
           },
           {
            "edge": 12,
            "source": 3,
            "target": 7,
            "x": -0.22249994564827022,
            "y": 0.031198064482266814
           },
           {
            "edge": 13,
            "source": 4,
            "target": 18,
            "x": 0.08966277340422625,
            "y": -0.15050750058744797
           },
           {
            "edge": 13,
            "source": 4,
            "target": 18,
            "x": -0.18978650763798327,
            "y": -0.39571664843125637
           },
           {
            "edge": 14,
            "source": 4,
            "target": 6,
            "x": 0.08966277340422625,
            "y": -0.15050750058744797
           },
           {
            "edge": 14,
            "source": 4,
            "target": 6,
            "x": -0.45579884602111753,
            "y": 0.0387891903973724
           },
           {
            "edge": 15,
            "source": 4,
            "target": 9,
            "x": 0.08966277340422625,
            "y": -0.15050750058744797
           },
           {
            "edge": 15,
            "source": 4,
            "target": 9,
            "x": 0.2621447766262898,
            "y": -0.5396001156113935
           },
           {
            "edge": 16,
            "source": 4,
            "target": 13,
            "x": 0.08966277340422625,
            "y": -0.15050750058744797
           },
           {
            "edge": 16,
            "source": 4,
            "target": 13,
            "x": 0.030385507505801712,
            "y": 0.2575675788996841
           },
           {
            "edge": 17,
            "source": 4,
            "target": 14,
            "x": 0.08966277340422625,
            "y": -0.15050750058744797
           },
           {
            "edge": 17,
            "source": 4,
            "target": 14,
            "x": 0.42425210632331406,
            "y": 0.3125990935449465
           },
           {
            "edge": 18,
            "source": 5,
            "target": 17,
            "x": -0.5873934040211775,
            "y": -0.5498850829720988
           },
           {
            "edge": 18,
            "source": 5,
            "target": 17,
            "x": -0.007227260693929217,
            "y": 0.008435092056908325
           },
           {
            "edge": 19,
            "source": 5,
            "target": 18,
            "x": -0.5873934040211775,
            "y": -0.5498850829720988
           },
           {
            "edge": 19,
            "source": 5,
            "target": 18,
            "x": -0.18978650763798327,
            "y": -0.39571664843125637
           },
           {
            "edge": 20,
            "source": 6,
            "target": 17,
            "x": -0.45579884602111753,
            "y": 0.0387891903973724
           },
           {
            "edge": 20,
            "source": 6,
            "target": 17,
            "x": -0.007227260693929217,
            "y": 0.008435092056908325
           },
           {
            "edge": 21,
            "source": 6,
            "target": 7,
            "x": -0.45579884602111753,
            "y": 0.0387891903973724
           },
           {
            "edge": 21,
            "source": 6,
            "target": 7,
            "x": -0.22249994564827022,
            "y": 0.031198064482266814
           },
           {
            "edge": 22,
            "source": 6,
            "target": 8,
            "x": -0.45579884602111753,
            "y": 0.0387891903973724
           },
           {
            "edge": 22,
            "source": 6,
            "target": 8,
            "x": -0.5132440942703104,
            "y": 0.4431621661465867
           },
           {
            "edge": 23,
            "source": 6,
            "target": 13,
            "x": -0.45579884602111753,
            "y": 0.0387891903973724
           },
           {
            "edge": 23,
            "source": 6,
            "target": 13,
            "x": 0.030385507505801712,
            "y": 0.2575675788996841
           },
           {
            "edge": 24,
            "source": 7,
            "target": 16,
            "x": -0.22249994564827022,
            "y": 0.031198064482266814
           },
           {
            "edge": 24,
            "source": 7,
            "target": 16,
            "x": -0.5715040806064838,
            "y": -0.07784901553035016
           },
           {
            "edge": 25,
            "source": 7,
            "target": 17,
            "x": -0.22249994564827022,
            "y": 0.031198064482266814
           },
           {
            "edge": 25,
            "source": 7,
            "target": 17,
            "x": -0.007227260693929217,
            "y": 0.008435092056908325
           },
           {
            "edge": 26,
            "source": 7,
            "target": 18,
            "x": -0.22249994564827022,
            "y": 0.031198064482266814
           },
           {
            "edge": 26,
            "source": 7,
            "target": 18,
            "x": -0.18978650763798327,
            "y": -0.39571664843125637
           },
           {
            "edge": 27,
            "source": 7,
            "target": 13,
            "x": -0.22249994564827022,
            "y": 0.031198064482266814
           },
           {
            "edge": 27,
            "source": 7,
            "target": 13,
            "x": 0.030385507505801712,
            "y": 0.2575675788996841
           },
           {
            "edge": 28,
            "source": 7,
            "target": 15,
            "x": -0.22249994564827022,
            "y": 0.031198064482266814
           },
           {
            "edge": 28,
            "source": 7,
            "target": 15,
            "x": -0.11656027894142472,
            "y": 0.5831562153898471
           },
           {
            "edge": 29,
            "source": 8,
            "target": 16,
            "x": -0.5132440942703104,
            "y": 0.4431621661465867
           },
           {
            "edge": 29,
            "source": 8,
            "target": 16,
            "x": -0.5715040806064838,
            "y": -0.07784901553035016
           },
           {
            "edge": 30,
            "source": 8,
            "target": 13,
            "x": -0.5132440942703104,
            "y": 0.4431621661465867
           },
           {
            "edge": 30,
            "source": 8,
            "target": 13,
            "x": 0.030385507505801712,
            "y": 0.2575675788996841
           },
           {
            "edge": 31,
            "source": 8,
            "target": 15,
            "x": -0.5132440942703104,
            "y": 0.4431621661465867
           },
           {
            "edge": 31,
            "source": 8,
            "target": 15,
            "x": -0.11656027894142472,
            "y": 0.5831562153898471
           },
           {
            "edge": 32,
            "source": 9,
            "target": 19,
            "x": 0.2621447766262898,
            "y": -0.5396001156113935
           },
           {
            "edge": 32,
            "source": 9,
            "target": 19,
            "x": 0.34820353769014556,
            "y": -0.2664707797894104
           },
           {
            "edge": 33,
            "source": 9,
            "target": 10,
            "x": 0.2621447766262898,
            "y": -0.5396001156113935
           },
           {
            "edge": 33,
            "source": 9,
            "target": 10,
            "x": 0.595876232185504,
            "y": -0.1997674200532103
           },
           {
            "edge": 34,
            "source": 10,
            "target": 19,
            "x": 0.595876232185504,
            "y": -0.1997674200532103
           },
           {
            "edge": 34,
            "source": 10,
            "target": 19,
            "x": 0.34820353769014556,
            "y": -0.2664707797894104
           },
           {
            "edge": 35,
            "source": 10,
            "target": 17,
            "x": 0.595876232185504,
            "y": -0.1997674200532103
           },
           {
            "edge": 35,
            "source": 10,
            "target": 17,
            "x": -0.007227260693929217,
            "y": 0.008435092056908325
           },
           {
            "edge": 36,
            "source": 10,
            "target": 14,
            "x": 0.595876232185504,
            "y": -0.1997674200532103
           },
           {
            "edge": 36,
            "source": 10,
            "target": 14,
            "x": 0.42425210632331406,
            "y": 0.3125990935449465
           },
           {
            "edge": 37,
            "source": 11,
            "target": 17,
            "x": 0.35982575434722364,
            "y": 0.6065599573881801
           },
           {
            "edge": 37,
            "source": 11,
            "target": 17,
            "x": -0.007227260693929217,
            "y": 0.008435092056908325
           },
           {
            "edge": 38,
            "source": 11,
            "target": 12,
            "x": 0.35982575434722364,
            "y": 0.6065599573881801
           },
           {
            "edge": 38,
            "source": 11,
            "target": 12,
            "x": 0.7430796415273343,
            "y": 0.8454696375144796
           },
           {
            "edge": 39,
            "source": 11,
            "target": 13,
            "x": 0.35982575434722364,
            "y": 0.6065599573881801
           },
           {
            "edge": 39,
            "source": 11,
            "target": 13,
            "x": 0.030385507505801712,
            "y": 0.2575675788996841
           },
           {
            "edge": 40,
            "source": 11,
            "target": 14,
            "x": 0.35982575434722364,
            "y": 0.6065599573881801
           },
           {
            "edge": 40,
            "source": 11,
            "target": 14,
            "x": 0.42425210632331406,
            "y": 0.3125990935449465
           },
           {
            "edge": 41,
            "source": 12,
            "target": 14,
            "x": 0.7430796415273343,
            "y": 0.8454696375144796
           },
           {
            "edge": 41,
            "source": 12,
            "target": 14,
            "x": 0.42425210632331406,
            "y": 0.3125990935449465
           },
           {
            "edge": 42,
            "source": 13,
            "target": 19,
            "x": 0.030385507505801712,
            "y": 0.2575675788996841
           },
           {
            "edge": 42,
            "source": 13,
            "target": 19,
            "x": 0.34820353769014556,
            "y": -0.2664707797894104
           },
           {
            "edge": 43,
            "source": 13,
            "target": 17,
            "x": 0.030385507505801712,
            "y": 0.2575675788996841
           },
           {
            "edge": 43,
            "source": 13,
            "target": 17,
            "x": -0.007227260693929217,
            "y": 0.008435092056908325
           },
           {
            "edge": 44,
            "source": 13,
            "target": 14,
            "x": 0.030385507505801712,
            "y": 0.2575675788996841
           },
           {
            "edge": 44,
            "source": 13,
            "target": 14,
            "x": 0.42425210632331406,
            "y": 0.3125990935449465
           },
           {
            "edge": 45,
            "source": 13,
            "target": 15,
            "x": 0.030385507505801712,
            "y": 0.2575675788996841
           },
           {
            "edge": 45,
            "source": 13,
            "target": 15,
            "x": -0.11656027894142472,
            "y": 0.5831562153898471
           },
           {
            "edge": 46,
            "source": 14,
            "target": 17,
            "x": 0.42425210632331406,
            "y": 0.3125990935449465
           },
           {
            "edge": 46,
            "source": 14,
            "target": 17,
            "x": -0.007227260693929217,
            "y": 0.008435092056908325
           },
           {
            "edge": 47,
            "source": 14,
            "target": 15,
            "x": 0.42425210632331406,
            "y": 0.3125990935449465
           },
           {
            "edge": 47,
            "source": 14,
            "target": 15,
            "x": -0.11656027894142472,
            "y": 0.5831562153898471
           },
           {
            "edge": 48,
            "source": 16,
            "target": 17,
            "x": -0.5715040806064838,
            "y": -0.07784901553035016
           },
           {
            "edge": 48,
            "source": 16,
            "target": 17,
            "x": -0.007227260693929217,
            "y": 0.008435092056908325
           },
           {
            "edge": 49,
            "source": 16,
            "target": 18,
            "x": -0.5715040806064838,
            "y": -0.07784901553035016
           },
           {
            "edge": 49,
            "source": 16,
            "target": 18,
            "x": -0.18978650763798327,
            "y": -0.39571664843125637
           },
           {
            "edge": 50,
            "source": 17,
            "target": 19,
            "x": -0.007227260693929217,
            "y": 0.008435092056908325
           },
           {
            "edge": 50,
            "source": 17,
            "target": 19,
            "x": 0.34820353769014556,
            "y": -0.2664707797894104
           },
           {
            "edge": 51,
            "source": 18,
            "target": 19,
            "x": -0.18978650763798327,
            "y": -0.39571664843125637
           },
           {
            "edge": 51,
            "source": 18,
            "target": 19,
            "x": 0.34820353769014556,
            "y": -0.2664707797894104
           }
          ]
         },
         "encoding": {
          "detail": {
           "field": "edge",
           "type": "quantitative"
          },
          "x": {
           "axis": {
            "title": ""
           },
           "field": "x",
           "type": "quantitative"
          },
          "y": {
           "axis": {
            "title": ""
           },
           "field": "y",
           "type": "quantitative"
          }
         },
         "mark": {
          "color": "black",
          "opacity": 1,
          "type": "line"
         },
         "selection": {
          "selector020": {
           "bind": "scales",
           "encodings": [
            "x",
            "y"
           ],
           "mark": {
            "fill": "#333",
            "fillOpacity": 0.125,
            "stroke": "white"
           },
           "on": "[mousedown, window:mouseup] > window:mousemove!",
           "resolve": "global",
           "translate": "[mousedown, window:mouseup] > window:mousemove!",
           "type": "interval",
           "zoom": "wheel!"
          }
         }
        },
        {
         "data": {
          "values": [
           {
            "x": -1,
            "y": -0.40494296382491207
           },
           {
            "x": 0.813775450611165,
            "y": -0.017187936268281797
           },
           {
            "x": -0.35736625227727037,
            "y": -0.4821938229126148
           },
           {
            "x": 0.35417488989696505,
            "y": -0.04281570983929575
           },
           {
            "x": 0.08966277340422625,
            "y": -0.15050750058744797
           },
           {
            "x": -0.5873934040211775,
            "y": -0.5498850829720988
           },
           {
            "x": -0.45579884602111753,
            "y": 0.0387891903973724
           },
           {
            "x": -0.22249994564827022,
            "y": 0.031198064482266814
           },
           {
            "x": -0.5132440942703104,
            "y": 0.4431621661465867
           },
           {
            "x": 0.2621447766262898,
            "y": -0.5396001156113935
           },
           {
            "x": 0.595876232185504,
            "y": -0.1997674200532103
           },
           {
            "x": 0.35982575434722364,
            "y": 0.6065599573881801
           },
           {
            "x": 0.7430796415273343,
            "y": 0.8454696375144796
           },
           {
            "x": 0.030385507505801712,
            "y": 0.2575675788996841
           },
           {
            "x": 0.42425210632331406,
            "y": 0.3125990935449465
           },
           {
            "x": -0.11656027894142472,
            "y": 0.5831562153898471
           },
           {
            "x": -0.5715040806064838,
            "y": -0.07784901553035016
           },
           {
            "x": -0.007227260693929217,
            "y": 0.008435092056908325
           },
           {
            "x": -0.18978650763798327,
            "y": -0.39571664843125637
           },
           {
            "x": 0.34820353769014556,
            "y": -0.2664707797894104
           }
          ]
         },
         "encoding": {
          "x": {
           "field": "x",
           "type": "quantitative"
          },
          "y": {
           "field": "y",
           "type": "quantitative"
          }
         },
         "mark": {
          "color": "black",
          "fill": "red",
          "opacity": 1,
          "size": 600,
          "type": "point"
         }
        }
       ]
      },
      "image/png": "[encoded data removed]",
      "text/plain": [
       "<VegaLite 2 object>\n",
       "\n",
       "If you see this message, it means the renderer has not been properly enabled\n",
       "for the frontend that you are using. For more information, see\n",
       "https://altair-viz.github.io/user_guide/troubleshooting.html\n"
      ]
     },
     "execution_count": 52,
     "metadata": {},
     "output_type": "execute_result"
    }
   ],
   "source": []
  }
 ],
 "metadata": {
  "kernelspec": {
   "display_name": "gpseer (Python 3)",
   "language": "python",
   "name": "gpseer"
  },
  "language_info": {
   "codemirror_mode": {
    "name": "ipython",
    "version": 3
   },
   "file_extension": ".py",
   "mimetype": "text/x-python",
   "name": "python",
   "nbconvert_exporter": "python",
   "pygments_lexer": "ipython3",
   "version": "3.6.5"
  }
 },
 "nbformat": 4,
 "nbformat_minor": 2
}
