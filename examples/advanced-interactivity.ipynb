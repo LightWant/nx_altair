{
 "cells": [
  {
   "cell_type": "markdown",
   "metadata": {},
   "source": [
    "# Advanced Interactivity"
   ]
  },
  {
   "cell_type": "code",
   "execution_count": 5,
   "metadata": {},
   "outputs": [],
   "source": [
    "import networkx as nx\n",
    "import altair as alt\n",
    "import nx_altair as nxa\n",
    "import numpy as np"
   ]
  },
  {
   "cell_type": "code",
   "execution_count": 6,
   "metadata": {},
   "outputs": [
    {
     "data": {
      "application/vnd.vegalite.v2+json": {
       "$schema": "https://vega.github.io/schema/vega-lite/v2.4.3.json",
       "config": {
        "axis": {
         "domain": false,
         "grid": false,
         "labels": false,
         "ticks": false
        },
        "view": {
         "height": 300,
         "width": 400
        }
       },
       "layer": [
        {
         "data": {
          "values": [
           {
            "edge": 0,
            "pair": [
             0,
             8
            ],
            "source": 0,
            "target": 8,
            "weight": 5.907814435905303,
            "x": -0.38079494583413787,
            "y": 0.35090772786339386
           },
           {
            "edge": 0,
            "pair": [
             0,
             8
            ],
            "source": 0,
            "target": 8,
            "weight": 5.907814435905303,
            "x": -0.3604204880867666,
            "y": 0.03142662587056254
           },
           {
            "edge": 1,
            "pair": [
             0,
             10
            ],
            "source": 0,
            "target": 10,
            "weight": 8.317611284852765,
            "x": -0.38079494583413787,
            "y": 0.35090772786339386
           },
           {
            "edge": 1,
            "pair": [
             0,
             10
            ],
            "source": 0,
            "target": 10,
            "weight": 8.317611284852765,
            "x": 0.0712684058576911,
            "y": 0.09687562327129833
           },
           {
            "edge": 2,
            "pair": [
             0,
             11
            ],
            "source": 0,
            "target": 11,
            "weight": 2.1343160826402725,
            "x": -0.38079494583413787,
            "y": 0.35090772786339386
           },
           {
            "edge": 2,
            "pair": [
             0,
             11
            ],
            "source": 0,
            "target": 11,
            "weight": 2.1343160826402725,
            "x": -0.5920736329733747,
            "y": 0.5704540524764156
           },
           {
            "edge": 3,
            "pair": [
             0,
             14
            ],
            "source": 0,
            "target": 14,
            "weight": 7.344211218405118,
            "x": -0.38079494583413787,
            "y": 0.35090772786339386
           },
           {
            "edge": 3,
            "pair": [
             0,
             14
            ],
            "source": 0,
            "target": 14,
            "weight": 7.344211218405118,
            "x": -0.4250152383325884,
            "y": 0.596968422198871
           },
           {
            "edge": 4,
            "pair": [
             0,
             15
            ],
            "source": 0,
            "target": 15,
            "weight": 4.220375623118587,
            "x": -0.38079494583413787,
            "y": 0.35090772786339386
           },
           {
            "edge": 4,
            "pair": [
             0,
             15
            ],
            "source": 0,
            "target": 15,
            "weight": 4.220375623118587,
            "x": -0.2074616550804945,
            "y": 0.3118229355907
           },
           {
            "edge": 5,
            "pair": [
             1,
             4
            ],
            "source": 1,
            "target": 4,
            "weight": 1.0730618572048929,
            "x": 0.18136643514737144,
            "y": 0.18100598992293815
           },
           {
            "edge": 5,
            "pair": [
             1,
             4
            ],
            "source": 1,
            "target": 4,
            "weight": 1.0730618572048929,
            "x": 0.34820063932696105,
            "y": -0.34182740566618647
           },
           {
            "edge": 6,
            "pair": [
             1,
             7
            ],
            "source": 1,
            "target": 7,
            "weight": 4.786858999861121,
            "x": 0.18136643514737144,
            "y": 0.18100598992293815
           },
           {
            "edge": 6,
            "pair": [
             1,
             7
            ],
            "source": 1,
            "target": 7,
            "weight": 4.786858999861121,
            "x": -0.1471725267621472,
            "y": -0.14721468002716875
           },
           {
            "edge": 7,
            "pair": [
             1,
             10
            ],
            "source": 1,
            "target": 10,
            "weight": 6.093278917718626,
            "x": 0.18136643514737144,
            "y": 0.18100598992293815
           },
           {
            "edge": 7,
            "pair": [
             1,
             10
            ],
            "source": 1,
            "target": 10,
            "weight": 6.093278917718626,
            "x": 0.0712684058576911,
            "y": 0.09687562327129833
           },
           {
            "edge": 8,
            "pair": [
             1,
             16
            ],
            "source": 1,
            "target": 16,
            "weight": 7.24769877763704,
            "x": 0.18136643514737144,
            "y": 0.18100598992293815
           },
           {
            "edge": 8,
            "pair": [
             1,
             16
            ],
            "source": 1,
            "target": 16,
            "weight": 7.24769877763704,
            "x": -0.04072292046142411,
            "y": 0.3616903569523701
           },
           {
            "edge": 9,
            "pair": [
             1,
             18
            ],
            "source": 1,
            "target": 18,
            "weight": 8.85593772556987,
            "x": 0.18136643514737144,
            "y": 0.18100598992293815
           },
           {
            "edge": 9,
            "pair": [
             1,
             18
            ],
            "source": 1,
            "target": 18,
            "weight": 8.85593772556987,
            "x": -0.01829838077216846,
            "y": 0.6267443275600849
           },
           {
            "edge": 10,
            "pair": [
             1,
             19
            ],
            "source": 1,
            "target": 19,
            "weight": 1.8220772262432945,
            "x": 0.18136643514737144,
            "y": 0.18100598992293815
           },
           {
            "edge": 10,
            "pair": [
             1,
             19
            ],
            "source": 1,
            "target": 19,
            "weight": 1.8220772262432945,
            "x": 0.1557629449645029,
            "y": 0.5062496226048093
           },
           {
            "edge": 11,
            "pair": [
             2,
             7
            ],
            "source": 2,
            "target": 7,
            "weight": 8.092252586544912,
            "x": -0.541117167826766,
            "y": 0.15772634390675003
           },
           {
            "edge": 11,
            "pair": [
             2,
             7
            ],
            "source": 2,
            "target": 7,
            "weight": 8.092252586544912,
            "x": -0.1471725267621472,
            "y": -0.14721468002716875
           },
           {
            "edge": 12,
            "pair": [
             2,
             8
            ],
            "source": 2,
            "target": 8,
            "weight": 6.363906833359233,
            "x": -0.541117167826766,
            "y": 0.15772634390675003
           },
           {
            "edge": 12,
            "pair": [
             2,
             8
            ],
            "source": 2,
            "target": 8,
            "weight": 6.363906833359233,
            "x": -0.3604204880867666,
            "y": 0.03142662587056254
           },
           {
            "edge": 13,
            "pair": [
             2,
             14
            ],
            "source": 2,
            "target": 14,
            "weight": 5.9325932217857815,
            "x": -0.541117167826766,
            "y": 0.15772634390675003
           },
           {
            "edge": 13,
            "pair": [
             2,
             14
            ],
            "source": 2,
            "target": 14,
            "weight": 5.9325932217857815,
            "x": -0.4250152383325884,
            "y": 0.596968422198871
           },
           {
            "edge": 14,
            "pair": [
             3,
             7
            ],
            "source": 3,
            "target": 7,
            "weight": 1.9847507950875332,
            "x": -0.2201379850812288,
            "y": -0.3970055476116966
           },
           {
            "edge": 14,
            "pair": [
             3,
             7
            ],
            "source": 3,
            "target": 7,
            "weight": 1.9847507950875332,
            "x": -0.1471725267621472,
            "y": -0.14721468002716875
           },
           {
            "edge": 15,
            "pair": [
             3,
             8
            ],
            "source": 3,
            "target": 8,
            "weight": 2.9509877629996866,
            "x": -0.2201379850812288,
            "y": -0.3970055476116966
           },
           {
            "edge": 15,
            "pair": [
             3,
             8
            ],
            "source": 3,
            "target": 8,
            "weight": 2.9509877629996866,
            "x": -0.3604204880867666,
            "y": 0.03142662587056254
           },
           {
            "edge": 16,
            "pair": [
             3,
             9
            ],
            "source": 3,
            "target": 9,
            "weight": 6.518255381026769,
            "x": -0.2201379850812288,
            "y": -0.3970055476116966
           },
           {
            "edge": 16,
            "pair": [
             3,
             9
            ],
            "source": 3,
            "target": 9,
            "weight": 6.518255381026769,
            "x": 0.22392216758991634,
            "y": -0.5788461185124599
           },
           {
            "edge": 17,
            "pair": [
             4,
             12
            ],
            "source": 4,
            "target": 12,
            "weight": 5.169545150818108,
            "x": 0.34820063932696105,
            "y": -0.34182740566618647
           },
           {
            "edge": 17,
            "pair": [
             4,
             12
            ],
            "source": 4,
            "target": 12,
            "weight": 5.169545150818108,
            "x": 0.08154019330477179,
            "y": -0.3925275977917461
           },
           {
            "edge": 18,
            "pair": [
             4,
             17
            ],
            "source": 4,
            "target": 17,
            "weight": 7.665716886989662,
            "x": 0.34820063932696105,
            "y": -0.34182740566618647
           },
           {
            "edge": 18,
            "pair": [
             4,
             17
            ],
            "source": 4,
            "target": 17,
            "weight": 7.665716886989662,
            "x": 0.32538179411391105,
            "y": -0.777791853952008
           },
           {
            "edge": 19,
            "pair": [
             5,
             7
            ],
            "source": 5,
            "target": 7,
            "weight": 3.3948237049919445,
            "x": -0.0016054759135066383,
            "y": -0.6649999568704932
           },
           {
            "edge": 19,
            "pair": [
             5,
             7
            ],
            "source": 5,
            "target": 7,
            "weight": 3.3948237049919445,
            "x": -0.1471725267621472,
            "y": -0.14721468002716875
           },
           {
            "edge": 20,
            "pair": [
             5,
             9
            ],
            "source": 5,
            "target": 9,
            "weight": 3.9850764902694635,
            "x": -0.0016054759135066383,
            "y": -0.6649999568704932
           },
           {
            "edge": 20,
            "pair": [
             5,
             9
            ],
            "source": 5,
            "target": 9,
            "weight": 3.9850764902694635,
            "x": 0.22392216758991634,
            "y": -0.5788461185124599
           },
           {
            "edge": 21,
            "pair": [
             5,
             17
            ],
            "source": 5,
            "target": 17,
            "weight": 7.259518446084336,
            "x": -0.0016054759135066383,
            "y": -0.6649999568704932
           },
           {
            "edge": 21,
            "pair": [
             5,
             17
            ],
            "source": 5,
            "target": 17,
            "weight": 7.259518446084336,
            "x": 0.32538179411391105,
            "y": -0.777791853952008
           },
           {
            "edge": 22,
            "pair": [
             6,
             9
            ],
            "source": 6,
            "target": 9,
            "weight": 1.9341055480956881,
            "x": 0.547377836819478,
            "y": -0.22279430444517484
           },
           {
            "edge": 22,
            "pair": [
             6,
             9
            ],
            "source": 6,
            "target": 9,
            "weight": 1.9341055480956881,
            "x": 0.22392216758991634,
            "y": -0.5788461185124599
           },
           {
            "edge": 23,
            "pair": [
             6,
             10
            ],
            "source": 6,
            "target": 10,
            "weight": 1.3974686386773842,
            "x": 0.547377836819478,
            "y": -0.22279430444517484
           },
           {
            "edge": 23,
            "pair": [
             6,
             10
            ],
            "source": 6,
            "target": 10,
            "weight": 1.3974686386773842,
            "x": 0.0712684058576911,
            "y": 0.09687562327129833
           },
           {
            "edge": 24,
            "pair": [
             6,
             13
            ],
            "source": 6,
            "target": 13,
            "weight": 2.933830801720178,
            "x": 0.547377836819478,
            "y": -0.22279430444517484
           },
           {
            "edge": 24,
            "pair": [
             6,
             13
            ],
            "source": 6,
            "target": 13,
            "weight": 2.933830801720178,
            "x": 1,
            "y": -0.2688645633412599
           },
           {
            "edge": 25,
            "pair": [
             7,
             12
            ],
            "source": 7,
            "target": 12,
            "weight": 7.7778921557631575,
            "x": -0.1471725267621472,
            "y": -0.14721468002716875
           },
           {
            "edge": 25,
            "pair": [
             7,
             12
            ],
            "source": 7,
            "target": 12,
            "weight": 7.7778921557631575,
            "x": 0.08154019330477179,
            "y": -0.3925275977917461
           },
           {
            "edge": 26,
            "pair": [
             7,
             15
            ],
            "source": 7,
            "target": 15,
            "weight": 5.697029920483564,
            "x": -0.1471725267621472,
            "y": -0.14721468002716875
           },
           {
            "edge": 26,
            "pair": [
             7,
             15
            ],
            "source": 7,
            "target": 15,
            "weight": 5.697029920483564,
            "x": -0.2074616550804945,
            "y": 0.3118229355907
           },
           {
            "edge": 27,
            "pair": [
             8,
             16
            ],
            "source": 8,
            "target": 16,
            "weight": 2.809009523581939,
            "x": -0.3604204880867666,
            "y": 0.03142662587056254
           },
           {
            "edge": 27,
            "pair": [
             8,
             16
            ],
            "source": 8,
            "target": 16,
            "weight": 2.809009523581939,
            "x": -0.04072292046142411,
            "y": 0.3616903569523701
           },
           {
            "edge": 28,
            "pair": [
             9,
             17
            ],
            "source": 9,
            "target": 17,
            "weight": 9.184550677384898,
            "x": 0.22392216758991634,
            "y": -0.5788461185124599
           },
           {
            "edge": 28,
            "pair": [
             9,
             17
            ],
            "source": 9,
            "target": 17,
            "weight": 9.184550677384898,
            "x": 0.32538179411391105,
            "y": -0.777791853952008
           },
           {
            "edge": 29,
            "pair": [
             10,
             15
            ],
            "source": 10,
            "target": 15,
            "weight": 5.9032040587314825,
            "x": 0.0712684058576911,
            "y": 0.09687562327129833
           },
           {
            "edge": 29,
            "pair": [
             10,
             15
            ],
            "source": 10,
            "target": 15,
            "weight": 5.9032040587314825,
            "x": -0.2074616550804945,
            "y": 0.3118229355907
           },
           {
            "edge": 30,
            "pair": [
             11,
             14
            ],
            "source": 11,
            "target": 14,
            "weight": 8.726541570204716,
            "x": -0.5920736329733747,
            "y": 0.5704540524764156
           },
           {
            "edge": 30,
            "pair": [
             11,
             14
            ],
            "source": 11,
            "target": 14,
            "weight": 8.726541570204716,
            "x": -0.4250152383325884,
            "y": 0.596968422198871
           },
           {
            "edge": 31,
            "pair": [
             11,
             15
            ],
            "source": 11,
            "target": 15,
            "weight": 6.969438268564794,
            "x": -0.5920736329733747,
            "y": 0.5704540524764156
           },
           {
            "edge": 31,
            "pair": [
             11,
             15
            ],
            "source": 11,
            "target": 15,
            "weight": 6.969438268564794,
            "x": -0.2074616550804945,
            "y": 0.3118229355907
           },
           {
            "edge": 32,
            "pair": [
             14,
             18
            ],
            "source": 14,
            "target": 18,
            "weight": 5.255287758872619,
            "x": -0.4250152383325884,
            "y": 0.596968422198871
           },
           {
            "edge": 32,
            "pair": [
             14,
             18
            ],
            "source": 14,
            "target": 18,
            "weight": 5.255287758872619,
            "x": -0.01829838077216846,
            "y": 0.6267443275600849
           },
           {
            "edge": 33,
            "pair": [
             15,
             19
            ],
            "source": 15,
            "target": 19,
            "weight": 2.801179439920031,
            "x": -0.2074616550804945,
            "y": 0.3118229355907
           },
           {
            "edge": 33,
            "pair": [
             15,
             19
            ],
            "source": 15,
            "target": 19,
            "weight": 2.801179439920031,
            "x": 0.1557629449645029,
            "y": 0.5062496226048093
           },
           {
            "edge": 34,
            "pair": [
             16,
             18
            ],
            "source": 16,
            "target": 18,
            "weight": 6.975781796740401,
            "x": -0.04072292046142411,
            "y": 0.3616903569523701
           },
           {
            "edge": 34,
            "pair": [
             16,
             18
            ],
            "source": 16,
            "target": 18,
            "weight": 6.975781796740401,
            "x": -0.01829838077216846,
            "y": 0.6267443275600849
           }
          ]
         },
         "encoding": {
          "detail": {
           "field": "edge",
           "type": "quantitative"
          },
          "size": {
           "field": "weight",
           "type": "quantitative"
          },
          "tooltip": [
           {
            "field": "weight",
            "type": "quantitative"
           }
          ],
          "x": {
           "axis": {
            "title": ""
           },
           "field": "x",
           "type": "quantitative"
          },
          "y": {
           "axis": {
            "title": ""
           },
           "field": "y",
           "type": "quantitative"
          }
         },
         "mark": {
          "color": "black",
          "opacity": 1,
          "type": "line"
         }
        },
        {
         "data": {
          "values": [
           {
            "name": 880,
            "weight": 1.5504738275107997,
            "x": -0.38079494583413787,
            "y": 0.35090772786339386,
            "z": "hello"
           },
           {
            "name": 720,
            "weight": 1.209517113804044,
            "x": 0.18136643514737144,
            "y": 0.18100598992293815,
            "z": "hello"
           },
           {
            "name": 247,
            "weight": 0.42363139433333996,
            "x": -0.541117167826766,
            "y": 0.15772634390675003,
            "z": "hello"
           },
           {
            "name": 274,
            "weight": 0.30726038016076757,
            "x": -0.2201379850812288,
            "y": -0.3970055476116966,
            "z": "hello"
           },
           {
            "name": 251,
            "weight": 1.548757732055645,
            "x": 0.34820063932696105,
            "y": -0.34182740566618647,
            "z": "hello"
           },
           {
            "name": 523,
            "weight": 0.15442690754805394,
            "x": -0.0016054759135066383,
            "y": -0.6649999568704932,
            "z": "hello"
           },
           {
            "name": 707,
            "weight": -0.5524000997679497,
            "x": 0.547377836819478,
            "y": -0.22279430444517484,
            "z": "hello"
           },
           {
            "name": 715,
            "weight": 1.5253672545663841,
            "x": -0.1471725267621472,
            "y": -0.14721468002716875,
            "z": "hello"
           },
           {
            "name": 408,
            "weight": -0.5371284360905415,
            "x": -0.3604204880867666,
            "y": 0.03142662587056254,
            "z": "hello"
           },
           {
            "name": 353,
            "weight": 0.8790417967122881,
            "x": 0.22392216758991634,
            "y": -0.5788461185124599,
            "z": "hello"
           },
           {
            "name": 762,
            "weight": -0.04267322310711977,
            "x": 0.0712684058576911,
            "y": 0.09687562327129833,
            "z": "hello"
           },
           {
            "name": 956,
            "weight": 0.6834702686596597,
            "x": -0.5920736329733747,
            "y": 0.5704540524764156,
            "z": "hello"
           },
           {
            "name": 148,
            "weight": -0.21876564407563948,
            "x": 0.08154019330477179,
            "y": -0.3925275977917461,
            "z": "hello"
           },
           {
            "name": 515,
            "weight": 1.4135321125203988,
            "x": 1,
            "y": -0.2688645633412599,
            "z": "hello"
           },
           {
            "name": 300,
            "weight": 0.25452549668181174,
            "x": -0.4250152383325884,
            "y": 0.596968422198871,
            "z": "hello"
           },
           {
            "name": 310,
            "weight": -1.4048644137980733,
            "x": -0.2074616550804945,
            "y": 0.3118229355907,
            "z": "hello"
           },
           {
            "name": 905,
            "weight": 0.6445807436933796,
            "x": -0.04072292046142411,
            "y": 0.3616903569523701,
            "z": "hello"
           },
           {
            "name": 145,
            "weight": -0.1704879852157405,
            "x": 0.32538179411391105,
            "y": -0.777791853952008,
            "z": "hello"
           },
           {
            "name": 626,
            "weight": 0.21803226620962357,
            "x": -0.01829838077216846,
            "y": 0.6267443275600849,
            "z": "hello"
           },
           {
            "name": 496,
            "weight": 0.5046342316120396,
            "x": 0.1557629449645029,
            "y": 0.5062496226048093,
            "z": "hello"
           }
          ]
         },
         "encoding": {
          "fill": {
           "field": "weight",
           "scale": {
            "scheme": "viridis"
           },
           "type": "quantitative"
          },
          "tooltip": [
           {
            "field": "weight",
            "type": "quantitative"
           },
           {
            "field": "name",
            "type": "quantitative"
           },
           {
            "field": "z",
            "type": "nominal"
           }
          ],
          "x": {
           "field": "x",
           "type": "quantitative"
          },
          "y": {
           "field": "y",
           "type": "quantitative"
          }
         },
         "mark": {
          "opacity": 1,
          "size": 300,
          "type": "point"
         }
        }
       ]
      },
      "image/png": "[encoded data removed]",
      "text/plain": [
       "<VegaLite 2 object>\n",
       "\n",
       "If you see this message, it means the renderer has not been properly enabled\n",
       "for the frontend that you are using. For more information, see\n",
       "https://altair-viz.github.io/user_guide/troubleshooting.html\n"
      ]
     },
     "execution_count": 6,
     "metadata": {},
     "output_type": "execute_result"
    }
   ],
   "source": [
    "# Generate a random graph\n",
    "G = nx.fast_gnp_random_graph(n=20, p=0.25)\n",
    "\n",
    "# Compute positions for viz.\n",
    "pos = nx.spring_layout(G)\n",
    "\n",
    "chart = nxa.core.to_chart(G, pos)\n",
    "\n",
    "# Add weights\n",
    "for n in G.nodes():\n",
    "    G.nodes[n]['weight'] = np.random.randn()\n",
    "    G.nodes[n]['name'] = np.random.randint(1000)\n",
    "    G.nodes[n]['z'] = 'hello'\n",
    "\n",
    "for e in G.edges():\n",
    "    G.edges[(e[0],e[1])]['weight'] = np.random.uniform(1, 10)\n",
    "    \n",
    "\n",
    "chart = nxa.core.to_chart(G, pos)\n",
    "nxa.draw_networkx_nodes(\n",
    "    chart=chart,\n",
    "    node_color='weight',\n",
    "    cmap='viridis',\n",
    "    tooltip=['weight', 'name', 'z']\n",
    ")\n",
    "\n",
    "nxa.draw_networkx_edges(\n",
    "    chart=chart,\n",
    "    width='weight',\n",
    "    tooltip=['weight']\n",
    ")\n",
    "\n",
    "chart"
   ]
  },
  {
   "cell_type": "code",
   "execution_count": 3,
   "metadata": {},
   "outputs": [
    {
     "data": {
      "application/vnd.vegalite.v2+json": {
       "$schema": "https://vega.github.io/schema/vega-lite/v2.4.3.json",
       "config": {
        "axis": {
         "domain": false,
         "grid": false,
         "labels": false,
         "ticks": false
        },
        "view": {
         "height": 300,
         "width": 400
        }
       },
       "layer": [
        {
         "data": {
          "values": [
           {
            "edge": 0,
            "pair": [
             0,
             5
            ],
            "source": 0,
            "target": 5,
            "weight": 6.281040578217963,
            "x": 0.17254082960081538,
            "y": 0.5730216367213423
           },
           {
            "edge": 0,
            "pair": [
             0,
             5
            ],
            "source": 0,
            "target": 5,
            "weight": 6.281040578217963,
            "x": -0.00542474561488709,
            "y": 0.26226521570203015
           },
           {
            "edge": 1,
            "pair": [
             0,
             14
            ],
            "source": 0,
            "target": 14,
            "weight": 5.574117560714445,
            "x": 0.17254082960081538,
            "y": 0.5730216367213423
           },
           {
            "edge": 1,
            "pair": [
             0,
             14
            ],
            "source": 0,
            "target": 14,
            "weight": 5.574117560714445,
            "x": 0.1593685646088755,
            "y": 0.16431305087420092
           },
           {
            "edge": 2,
            "pair": [
             0,
             15
            ],
            "source": 0,
            "target": 15,
            "weight": 4.49124787754948,
            "x": 0.17254082960081538,
            "y": 0.5730216367213423
           },
           {
            "edge": 2,
            "pair": [
             0,
             15
            ],
            "source": 0,
            "target": 15,
            "weight": 4.49124787754948,
            "x": 0.2655694673341153,
            "y": 0.47965653359415694
           },
           {
            "edge": 3,
            "pair": [
             0,
             17
            ],
            "source": 0,
            "target": 17,
            "weight": 9.96332780199238,
            "x": 0.17254082960081538,
            "y": 0.5730216367213423
           },
           {
            "edge": 3,
            "pair": [
             0,
             17
            ],
            "source": 0,
            "target": 17,
            "weight": 9.96332780199238,
            "x": 0.08685471011009276,
            "y": 0.3254508421446825
           },
           {
            "edge": 4,
            "pair": [
             1,
             5
            ],
            "source": 1,
            "target": 5,
            "weight": 2.29050405564627,
            "x": -0.56377074139564,
            "y": 0.0678994940825454
           },
           {
            "edge": 4,
            "pair": [
             1,
             5
            ],
            "source": 1,
            "target": 5,
            "weight": 2.29050405564627,
            "x": -0.00542474561488709,
            "y": 0.26226521570203015
           },
           {
            "edge": 5,
            "pair": [
             1,
             13
            ],
            "source": 1,
            "target": 13,
            "weight": 3.1276885679561586,
            "x": -0.56377074139564,
            "y": 0.0678994940825454
           },
           {
            "edge": 5,
            "pair": [
             1,
             13
            ],
            "source": 1,
            "target": 13,
            "weight": 3.1276885679561586,
            "x": -1,
            "y": 0.13816837129160506
           },
           {
            "edge": 6,
            "pair": [
             1,
             18
            ],
            "source": 1,
            "target": 18,
            "weight": 5.88964080745828,
            "x": -0.56377074139564,
            "y": 0.0678994940825454
           },
           {
            "edge": 6,
            "pair": [
             1,
             18
            ],
            "source": 1,
            "target": 18,
            "weight": 5.88964080745828,
            "x": -0.36910467352222076,
            "y": -0.31648190490958444
           },
           {
            "edge": 7,
            "pair": [
             2,
             6
            ],
            "source": 2,
            "target": 6,
            "weight": 4.458074329395664,
            "x": 0.3107639161439305,
            "y": -0.3738379506998245
           },
           {
            "edge": 7,
            "pair": [
             2,
             6
            ],
            "source": 2,
            "target": 6,
            "weight": 4.458074329395664,
            "x": 0.18590628343019452,
            "y": -0.6860448837799994
           },
           {
            "edge": 8,
            "pair": [
             2,
             9
            ],
            "source": 2,
            "target": 9,
            "weight": 7.28302644951422,
            "x": 0.3107639161439305,
            "y": -0.3738379506998245
           },
           {
            "edge": 8,
            "pair": [
             2,
             9
            ],
            "source": 2,
            "target": 9,
            "weight": 7.28302644951422,
            "x": 0.41351581060427295,
            "y": -0.632721432329376
           },
           {
            "edge": 9,
            "pair": [
             2,
             10
            ],
            "source": 2,
            "target": 10,
            "weight": 5.84792717430965,
            "x": 0.3107639161439305,
            "y": -0.3738379506998245
           },
           {
            "edge": 9,
            "pair": [
             2,
             10
            ],
            "source": 2,
            "target": 10,
            "weight": 5.84792717430965,
            "x": 0.11040959287443254,
            "y": -0.30462133428772303
           },
           {
            "edge": 10,
            "pair": [
             2,
             11
            ],
            "source": 2,
            "target": 11,
            "weight": 6.847866627005396,
            "x": 0.3107639161439305,
            "y": -0.3738379506998245
           },
           {
            "edge": 10,
            "pair": [
             2,
             11
            ],
            "source": 2,
            "target": 11,
            "weight": 6.847866627005396,
            "x": -0.007893644199986154,
            "y": -0.059953523021597795
           },
           {
            "edge": 11,
            "pair": [
             2,
             12
            ],
            "source": 2,
            "target": 12,
            "weight": 1.6515536730240188,
            "x": 0.3107639161439305,
            "y": -0.3738379506998245
           },
           {
            "edge": 11,
            "pair": [
             2,
             12
            ],
            "source": 2,
            "target": 12,
            "weight": 1.6515536730240188,
            "x": 0.3410187181295336,
            "y": -0.04891493630013483
           },
           {
            "edge": 12,
            "pair": [
             2,
             19
            ],
            "source": 2,
            "target": 19,
            "weight": 4.258377729452988,
            "x": 0.3107639161439305,
            "y": -0.3738379506998245
           },
           {
            "edge": 12,
            "pair": [
             2,
             19
            ],
            "source": 2,
            "target": 19,
            "weight": 4.258377729452988,
            "x": 0.49419305534823843,
            "y": -0.14485474304429544
           },
           {
            "edge": 13,
            "pair": [
             3,
             4
            ],
            "source": 3,
            "target": 4,
            "weight": 6.978957571248947,
            "x": 0.028545518189834473,
            "y": 0.5670048022149143
           },
           {
            "edge": 13,
            "pair": [
             3,
             4
            ],
            "source": 3,
            "target": 4,
            "weight": 6.978957571248947,
            "x": 0.35442382474716894,
            "y": 0.3101564963833478
           },
           {
            "edge": 14,
            "pair": [
             3,
             5
            ],
            "source": 3,
            "target": 5,
            "weight": 9.565597866888314,
            "x": 0.028545518189834473,
            "y": 0.5670048022149143
           },
           {
            "edge": 14,
            "pair": [
             3,
             5
            ],
            "source": 3,
            "target": 5,
            "weight": 9.565597866888314,
            "x": -0.00542474561488709,
            "y": 0.26226521570203015
           },
           {
            "edge": 15,
            "pair": [
             3,
             15
            ],
            "source": 3,
            "target": 15,
            "weight": 3.3118731272878064,
            "x": 0.028545518189834473,
            "y": 0.5670048022149143
           },
           {
            "edge": 15,
            "pair": [
             3,
             15
            ],
            "source": 3,
            "target": 15,
            "weight": 3.3118731272878064,
            "x": 0.2655694673341153,
            "y": 0.47965653359415694
           },
           {
            "edge": 16,
            "pair": [
             3,
             16
            ],
            "source": 3,
            "target": 16,
            "weight": 2.9096112122017894,
            "x": 0.028545518189834473,
            "y": 0.5670048022149143
           },
           {
            "edge": 16,
            "pair": [
             3,
             16
            ],
            "source": 3,
            "target": 16,
            "weight": 2.9096112122017894,
            "x": -0.14217146270141579,
            "y": 0.2890939491096508
           },
           {
            "edge": 17,
            "pair": [
             4,
             5
            ],
            "source": 4,
            "target": 5,
            "weight": 6.47571267768134,
            "x": 0.35442382474716894,
            "y": 0.3101564963833478
           },
           {
            "edge": 17,
            "pair": [
             4,
             5
            ],
            "source": 4,
            "target": 5,
            "weight": 6.47571267768134,
            "x": -0.00542474561488709,
            "y": 0.26226521570203015
           },
           {
            "edge": 18,
            "pair": [
             4,
             15
            ],
            "source": 4,
            "target": 15,
            "weight": 3.5304431467249824,
            "x": 0.35442382474716894,
            "y": 0.3101564963833478
           },
           {
            "edge": 18,
            "pair": [
             4,
             15
            ],
            "source": 4,
            "target": 15,
            "weight": 3.5304431467249824,
            "x": 0.2655694673341153,
            "y": 0.47965653359415694
           },
           {
            "edge": 19,
            "pair": [
             4,
             17
            ],
            "source": 4,
            "target": 17,
            "weight": 8.007425705814576,
            "x": 0.35442382474716894,
            "y": 0.3101564963833478
           },
           {
            "edge": 19,
            "pair": [
             4,
             17
            ],
            "source": 4,
            "target": 17,
            "weight": 8.007425705814576,
            "x": 0.08685471011009276,
            "y": 0.3254508421446825
           },
           {
            "edge": 20,
            "pair": [
             4,
             19
            ],
            "source": 4,
            "target": 19,
            "weight": 9.612660723556628,
            "x": 0.35442382474716894,
            "y": 0.3101564963833478
           },
           {
            "edge": 20,
            "pair": [
             4,
             19
            ],
            "source": 4,
            "target": 19,
            "weight": 9.612660723556628,
            "x": 0.49419305534823843,
            "y": -0.14485474304429544
           },
           {
            "edge": 21,
            "pair": [
             5,
             11
            ],
            "source": 5,
            "target": 11,
            "weight": 5.561584138150529,
            "x": -0.00542474561488709,
            "y": 0.26226521570203015
           },
           {
            "edge": 21,
            "pair": [
             5,
             11
            ],
            "source": 5,
            "target": 11,
            "weight": 5.561584138150529,
            "x": -0.007893644199986154,
            "y": -0.059953523021597795
           },
           {
            "edge": 22,
            "pair": [
             5,
             12
            ],
            "source": 5,
            "target": 12,
            "weight": 9.758725705154301,
            "x": -0.00542474561488709,
            "y": 0.26226521570203015
           },
           {
            "edge": 22,
            "pair": [
             5,
             12
            ],
            "source": 5,
            "target": 12,
            "weight": 9.758725705154301,
            "x": 0.3410187181295336,
            "y": -0.04891493630013483
           },
           {
            "edge": 23,
            "pair": [
             5,
             15
            ],
            "source": 5,
            "target": 15,
            "weight": 8.192414353069767,
            "x": -0.00542474561488709,
            "y": 0.26226521570203015
           },
           {
            "edge": 23,
            "pair": [
             5,
             15
            ],
            "source": 5,
            "target": 15,
            "weight": 8.192414353069767,
            "x": 0.2655694673341153,
            "y": 0.47965653359415694
           },
           {
            "edge": 24,
            "pair": [
             5,
             16
            ],
            "source": 5,
            "target": 16,
            "weight": 8.089524803695959,
            "x": -0.00542474561488709,
            "y": 0.26226521570203015
           },
           {
            "edge": 24,
            "pair": [
             5,
             16
            ],
            "source": 5,
            "target": 16,
            "weight": 8.089524803695959,
            "x": -0.14217146270141579,
            "y": 0.2890939491096508
           },
           {
            "edge": 25,
            "pair": [
             6,
             10
            ],
            "source": 6,
            "target": 10,
            "weight": 5.967218586078703,
            "x": 0.18590628343019452,
            "y": -0.6860448837799994
           },
           {
            "edge": 25,
            "pair": [
             6,
             10
            ],
            "source": 6,
            "target": 10,
            "weight": 5.967218586078703,
            "x": 0.11040959287443254,
            "y": -0.30462133428772303
           },
           {
            "edge": 26,
            "pair": [
             7,
             18
            ],
            "source": 7,
            "target": 18,
            "weight": 7.219546452550872,
            "x": -0.694831842103447,
            "y": -0.6292917565274325
           },
           {
            "edge": 26,
            "pair": [
             7,
             18
            ],
            "source": 7,
            "target": 18,
            "weight": 7.219546452550872,
            "x": -0.36910467352222076,
            "y": -0.31648190490958444
           },
           {
            "edge": 27,
            "pair": [
             8,
             10
            ],
            "source": 8,
            "target": 10,
            "weight": 1.4726663914984395,
            "x": -0.13991318158390853,
            "y": 0.01969207278148936
           },
           {
            "edge": 27,
            "pair": [
             8,
             10
            ],
            "source": 8,
            "target": 10,
            "weight": 1.4726663914984395,
            "x": 0.11040959287443254,
            "y": -0.30462133428772303
           },
           {
            "edge": 28,
            "pair": [
             8,
             11
            ],
            "source": 8,
            "target": 11,
            "weight": 4.808014889146534,
            "x": -0.13991318158390853,
            "y": 0.01969207278148936
           },
           {
            "edge": 28,
            "pair": [
             8,
             11
            ],
            "source": 8,
            "target": 11,
            "weight": 4.808014889146534,
            "x": -0.007893644199986154,
            "y": -0.059953523021597795
           },
           {
            "edge": 29,
            "pair": [
             8,
             16
            ],
            "source": 8,
            "target": 16,
            "weight": 5.668549139728794,
            "x": -0.13991318158390853,
            "y": 0.01969207278148936
           },
           {
            "edge": 29,
            "pair": [
             8,
             16
            ],
            "source": 8,
            "target": 16,
            "weight": 5.668549139728794,
            "x": -0.14217146270141579,
            "y": 0.2890939491096508
           },
           {
            "edge": 30,
            "pair": [
             8,
             17
            ],
            "source": 8,
            "target": 17,
            "weight": 5.200445088184237,
            "x": -0.13991318158390853,
            "y": 0.01969207278148936
           },
           {
            "edge": 30,
            "pair": [
             8,
             17
            ],
            "source": 8,
            "target": 17,
            "weight": 5.200445088184237,
            "x": 0.08685471011009276,
            "y": 0.3254508421446825
           },
           {
            "edge": 31,
            "pair": [
             9,
             10
            ],
            "source": 9,
            "target": 10,
            "weight": 9.749864432565472,
            "x": 0.41351581060427295,
            "y": -0.632721432329376
           },
           {
            "edge": 31,
            "pair": [
             9,
             10
            ],
            "source": 9,
            "target": 10,
            "weight": 9.749864432565472,
            "x": 0.11040959287443254,
            "y": -0.30462133428772303
           },
           {
            "edge": 32,
            "pair": [
             10,
             11
            ],
            "source": 10,
            "target": 11,
            "weight": 4.895611392287513,
            "x": 0.11040959287443254,
            "y": -0.30462133428772303
           },
           {
            "edge": 32,
            "pair": [
             10,
             11
            ],
            "source": 10,
            "target": 11,
            "weight": 4.895611392287513,
            "x": -0.007893644199986154,
            "y": -0.059953523021597795
           },
           {
            "edge": 33,
            "pair": [
             10,
             14
            ],
            "source": 10,
            "target": 14,
            "weight": 9.467661714080359,
            "x": 0.11040959287443254,
            "y": -0.30462133428772303
           },
           {
            "edge": 33,
            "pair": [
             10,
             14
            ],
            "source": 10,
            "target": 14,
            "weight": 9.467661714080359,
            "x": 0.1593685646088755,
            "y": 0.16431305087420092
           },
           {
            "edge": 34,
            "pair": [
             10,
             18
            ],
            "source": 10,
            "target": 18,
            "weight": 4.466657099828383,
            "x": 0.11040959287443254,
            "y": -0.30462133428772303
           },
           {
            "edge": 34,
            "pair": [
             10,
             18
            ],
            "source": 10,
            "target": 18,
            "weight": 4.466657099828383,
            "x": -0.36910467352222076,
            "y": -0.31648190490958444
           },
           {
            "edge": 35,
            "pair": [
             10,
             19
            ],
            "source": 10,
            "target": 19,
            "weight": 5.227312164034062,
            "x": 0.11040959287443254,
            "y": -0.30462133428772303
           },
           {
            "edge": 35,
            "pair": [
             10,
             19
            ],
            "source": 10,
            "target": 19,
            "weight": 5.227312164034062,
            "x": 0.49419305534823843,
            "y": -0.14485474304429544
           },
           {
            "edge": 36,
            "pair": [
             11,
             14
            ],
            "source": 11,
            "target": 14,
            "weight": 8.530799923719215,
            "x": -0.007893644199986154,
            "y": -0.059953523021597795
           },
           {
            "edge": 36,
            "pair": [
             11,
             14
            ],
            "source": 11,
            "target": 14,
            "weight": 8.530799923719215,
            "x": 0.1593685646088755,
            "y": 0.16431305087420092
           },
           {
            "edge": 37,
            "pair": [
             11,
             16
            ],
            "source": 11,
            "target": 16,
            "weight": 8.203653801602396,
            "x": -0.007893644199986154,
            "y": -0.059953523021597795
           },
           {
            "edge": 37,
            "pair": [
             11,
             16
            ],
            "source": 11,
            "target": 16,
            "weight": 8.203653801602396,
            "x": -0.14217146270141579,
            "y": 0.2890939491096508
           },
           {
            "edge": 38,
            "pair": [
             11,
             17
            ],
            "source": 11,
            "target": 17,
            "weight": 1.0044533983694741,
            "x": -0.007893644199986154,
            "y": -0.059953523021597795
           },
           {
            "edge": 38,
            "pair": [
             11,
             17
            ],
            "source": 11,
            "target": 17,
            "weight": 1.0044533983694741,
            "x": 0.08685471011009276,
            "y": 0.3254508421446825
           },
           {
            "edge": 39,
            "pair": [
             11,
             18
            ],
            "source": 11,
            "target": 18,
            "weight": 3.999966405749335,
            "x": -0.007893644199986154,
            "y": -0.059953523021597795
           },
           {
            "edge": 39,
            "pair": [
             11,
             18
            ],
            "source": 11,
            "target": 18,
            "weight": 3.999966405749335,
            "x": -0.36910467352222076,
            "y": -0.31648190490958444
           },
           {
            "edge": 40,
            "pair": [
             14,
             15
            ],
            "source": 14,
            "target": 15,
            "weight": 9.931591658670232,
            "x": 0.1593685646088755,
            "y": 0.16431305087420092
           },
           {
            "edge": 40,
            "pair": [
             14,
             15
            ],
            "source": 14,
            "target": 15,
            "weight": 9.931591658670232,
            "x": 0.2655694673341153,
            "y": 0.47965653359415694
           },
           {
            "edge": 41,
            "pair": [
             14,
             16
            ],
            "source": 14,
            "target": 16,
            "weight": 3.2175253477618395,
            "x": 0.1593685646088755,
            "y": 0.16431305087420092
           },
           {
            "edge": 41,
            "pair": [
             14,
             16
            ],
            "source": 14,
            "target": 16,
            "weight": 3.2175253477618395,
            "x": -0.14217146270141579,
            "y": 0.2890939491096508
           },
           {
            "edge": 42,
            "pair": [
             15,
             17
            ],
            "source": 15,
            "target": 17,
            "weight": 5.6292821245120965,
            "x": 0.2655694673341153,
            "y": 0.47965653359415694
           },
           {
            "edge": 42,
            "pair": [
             15,
             17
            ],
            "source": 15,
            "target": 17,
            "weight": 5.6292821245120965,
            "x": 0.08685471011009276,
            "y": 0.3254508421446825
           },
           {
            "edge": 43,
            "pair": [
             16,
             17
            ],
            "source": 16,
            "target": 17,
            "weight": 6.340316533911084,
            "x": -0.14217146270141579,
            "y": 0.2890939491096508
           },
           {
            "edge": 43,
            "pair": [
             16,
             17
            ],
            "source": 16,
            "target": 17,
            "weight": 6.340316533911084,
            "x": 0.08685471011009276,
            "y": 0.3254508421446825
           }
          ]
         },
         "encoding": {
          "detail": {
           "field": "edge",
           "type": "quantitative"
          },
          "size": {
           "field": "weight",
           "type": "quantitative"
          },
          "tooltip": [
           {
            "field": "weight",
            "type": "quantitative"
           }
          ],
          "x": {
           "axis": {
            "title": ""
           },
           "field": "x",
           "type": "quantitative"
          },
          "y": {
           "axis": {
            "title": ""
           },
           "field": "y",
           "type": "quantitative"
          }
         },
         "mark": {
          "color": "black",
          "opacity": 1,
          "type": "line"
         },
         "selection": {
          "selector001": {
           "bind": "scales",
           "encodings": [
            "x",
            "y"
           ],
           "mark": {
            "fill": "#333",
            "fillOpacity": 0.125,
            "stroke": "white"
           },
           "on": "[mousedown, window:mouseup] > window:mousemove!",
           "resolve": "global",
           "translate": "[mousedown, window:mouseup] > window:mousemove!",
           "type": "interval",
           "zoom": "wheel!"
          }
         }
        },
        {
         "data": {
          "values": [
           {
            "name": 905,
            "weight": -0.5827338607873124,
            "x": 0.17254082960081538,
            "y": 0.5730216367213423,
            "z": "hello"
           },
           {
            "name": 439,
            "weight": 1.6343711485557904,
            "x": -0.56377074139564,
            "y": 0.0678994940825454,
            "z": "hello"
           },
           {
            "name": 604,
            "weight": 0.5078189078656705,
            "x": 0.3107639161439305,
            "y": -0.3738379506998245,
            "z": "hello"
           },
           {
            "name": 579,
            "weight": 1.3285337206485897,
            "x": 0.028545518189834473,
            "y": 0.5670048022149143,
            "z": "hello"
           },
           {
            "name": 411,
            "weight": -1.0566802923091894,
            "x": 0.35442382474716894,
            "y": 0.3101564963833478,
            "z": "hello"
           },
           {
            "name": 185,
            "weight": 2.670437558934036,
            "x": -0.00542474561488709,
            "y": 0.26226521570203015,
            "z": "hello"
           },
           {
            "name": 893,
            "weight": 0.15211075823520298,
            "x": 0.18590628343019452,
            "y": -0.6860448837799994,
            "z": "hello"
           },
           {
            "name": 670,
            "weight": -0.6405151920312429,
            "x": -0.694831842103447,
            "y": -0.6292917565274325,
            "z": "hello"
           },
           {
            "name": 976,
            "weight": 0.2919357787581569,
            "x": -0.13991318158390853,
            "y": 0.01969207278148936,
            "z": "hello"
           },
           {
            "name": 852,
            "weight": 1.8732576096959448,
            "x": 0.41351581060427295,
            "y": -0.632721432329376,
            "z": "hello"
           },
           {
            "name": 991,
            "weight": -0.34254121646764785,
            "x": 0.11040959287443254,
            "y": -0.30462133428772303,
            "z": "hello"
           },
           {
            "name": 921,
            "weight": 0.5571579991092892,
            "x": -0.007893644199986154,
            "y": -0.059953523021597795,
            "z": "hello"
           },
           {
            "name": 651,
            "weight": -0.12538051529218736,
            "x": 0.3410187181295336,
            "y": -0.04891493630013483,
            "z": "hello"
           },
           {
            "name": 273,
            "weight": 1.3275911613167102,
            "x": -1,
            "y": 0.13816837129160506,
            "z": "hello"
           },
           {
            "name": 820,
            "weight": 0.5653976128456002,
            "x": 0.1593685646088755,
            "y": 0.16431305087420092,
            "z": "hello"
           },
           {
            "name": 370,
            "weight": -0.18548754315963242,
            "x": 0.2655694673341153,
            "y": 0.47965653359415694,
            "z": "hello"
           },
           {
            "name": 805,
            "weight": -0.7970084419925626,
            "x": -0.14217146270141579,
            "y": 0.2890939491096508,
            "z": "hello"
           },
           {
            "name": 539,
            "weight": -1.438358194205831,
            "x": 0.08685471011009276,
            "y": 0.3254508421446825,
            "z": "hello"
           },
           {
            "name": 575,
            "weight": 0.9524095791404851,
            "x": -0.36910467352222076,
            "y": -0.31648190490958444,
            "z": "hello"
           },
           {
            "name": 4,
            "weight": 2.2840228118803254,
            "x": 0.49419305534823843,
            "y": -0.14485474304429544,
            "z": "hello"
           }
          ]
         },
         "encoding": {
          "fill": {
           "field": "weight",
           "scale": {
            "scheme": "viridis"
           },
           "type": "quantitative"
          },
          "tooltip": [
           {
            "field": "weight",
            "type": "quantitative"
           },
           {
            "field": "name",
            "type": "quantitative"
           },
           {
            "field": "z",
            "type": "nominal"
           }
          ],
          "x": {
           "field": "x",
           "type": "quantitative"
          },
          "y": {
           "field": "y",
           "type": "quantitative"
          }
         },
         "mark": {
          "opacity": 1,
          "size": 300,
          "type": "point"
         }
        }
       ]
      },
      "image/png": "[encoded data removed]",
      "text/plain": [
       "<VegaLite 2 object>\n",
       "\n",
       "If you see this message, it means the renderer has not been properly enabled\n",
       "for the frontend that you are using. For more information, see\n",
       "https://altair-viz.github.io/user_guide/troubleshooting.html\n"
      ]
     },
     "execution_count": 3,
     "metadata": {},
     "output_type": "execute_result"
    }
   ],
   "source": [
    "chart.interactive()"
   ]
  },
  {
   "cell_type": "code",
   "execution_count": null,
   "metadata": {},
   "outputs": [],
   "source": []
  }
 ],
 "metadata": {
  "kernelspec": {
   "display_name": "omnipotent (Python 3.6)",
   "language": "python",
   "name": "omnipotent"
  },
  "language_info": {
   "codemirror_mode": {
    "name": "ipython",
    "version": 3
   },
   "file_extension": ".py",
   "mimetype": "text/x-python",
   "name": "python",
   "nbconvert_exporter": "python",
   "pygments_lexer": "ipython3",
   "version": "3.6.5"
  }
 },
 "nbformat": 4,
 "nbformat_minor": 2
}
